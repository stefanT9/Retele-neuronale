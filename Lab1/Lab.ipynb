{
 "cells": [
  {
   "cell_type": "code",
   "execution_count": 1,
   "metadata": {},
   "outputs": [
    {
     "name": "stdout",
     "output_type": "stream",
     "text": [
      "Requirement already satisfied: numpy in c:\\python38\\lib\\site-packages (1.19.1)\n"
     ]
    },
    {
     "name": "stderr",
     "output_type": "stream",
     "text": [
      "WARNING: You are using pip version 19.2.3, however version 20.2.3 is available.\n",
      "You should consider upgrading via the 'python -m pip install --upgrade pip' command.\n"
     ]
    }
   ],
   "source": [
    "!pip3 install numpy"
   ]
  },
  {
   "cell_type": "code",
   "execution_count": 2,
   "metadata": {},
   "outputs": [],
   "source": [
    "import numpy as np"
   ]
  },
  {
   "cell_type": "markdown",
   "metadata": {},
   "source": [
    "## Python"
   ]
  },
  {
   "cell_type": "markdown",
   "metadata": {},
   "source": [
    "#### Ex1"
   ]
  },
  {
   "cell_type": "code",
   "execution_count": 3,
   "metadata": {},
   "outputs": [],
   "source": [
    "def isPrime(x):\n",
    "    return True if len([i for i in range(1,x+1) if(x%i==0)])==2 else False"
   ]
  },
  {
   "cell_type": "markdown",
   "metadata": {},
   "source": [
    "#### Ex2\n",
    "Ordonati cuvintele din fisier-ul urmator: Latin-Lipsum.txt"
   ]
  },
  {
   "cell_type": "code",
   "execution_count": 4,
   "metadata": {},
   "outputs": [
    {
     "name": "stdout",
     "output_type": "stream",
     "text": [
      "['Deleniti', 'Eripuit', 'Est', 'Id', 'Ius', 'Quem', 'Qui', 'Te', 'Te', 'Vim', 'Vim', 'Vis', 'ad', 'ad,', 'adipisci', 'adolescens.', 'alienum', 'aliquid.', 'an', 'an,', 'an.', 'appareat', 'assentior', 'assentior,', 'at', 'at', 'at,', 'audiam', 'brute', 'complectitur', 'concludaturque', 'congue', 'consectetuer,', 'consequat', 'constituto', 'corrumpit', 'cu', 'cu,', 'cu,', 'cum', 'decore', 'disputando', 'dolore', 'duo', 'ea', 'ea', 'ea', 'eloquentiam', 'error', 'erroribus', 'est', 'est', 'eu', 'eu,', 'euismod.', 'eum', 'ex', 'ex', 'ex', 'ex,', 'facete', 'fugit', 'gloriatur', 'has.', 'his.', 'id', 'instructior', 'iriure', 'labore', 'labores', 'laoreet', 'libris', 'lucilius', 'mea', 'mea', 'mea', 'mea.', 'mea.\\n\\nNam', 'mei', 'mei', 'melius', 'molestie', 'molestie', 'mollis', 'nam', 'ne', 'ne,', 'nominati,', 'nominavi', 'nominavi', 'nostro', 'nostro', 'nostrum,', 'nusquam', 'nusquam', 'omittantur', 'omnium', 'patrioque', 'per', 'per', 'pertinacia', 'ponderum', 'possit,', 'principes', 'pro.', 'propriae', 'purto', 'qualisque', 'qui', 'quod', 'rationibus.', 'rebum', 'recusabo', 'recusabo', 'regione', 'sanctus', 'sapientem.\\n\\nSit', 'sea', 'sed,', 'similique', 'sonet', 'splendide', 'suscipiantur.', 'tacimates', 'tantas', 'te', 'te,', 'te.', 'te.', 'torquatos', 'tota', 'unum', 'ut', 'ut', 'utamur', 'verear', 'veritus', 'veritus,', 'verterem', 'vim', 'vim,', 'vivendum', 'vix,', 'vulputate']\n"
     ]
    }
   ],
   "source": [
    "file = open('latin.txt','r')\n",
    "words = file.read().split(' ')\n",
    "words.sort()\n",
    "print(words)"
   ]
  },
  {
   "cell_type": "markdown",
   "metadata": {},
   "source": [
    "#### Ex3\n",
    "Data matricea si vectorul, afisati rezulatul produsului lor scalar."
   ]
  },
  {
   "cell_type": "code",
   "execution_count": 5,
   "metadata": {},
   "outputs": [],
   "source": [
    "mat=[[1,2,3,4],[11,12,13,14],[21,22,23,24]]\n",
    "arr=[2, -5, 7, 10]"
   ]
  },
  {
   "cell_type": "code",
   "execution_count": 7,
   "metadata": {
    "scrolled": true
   },
   "outputs": [
    {
     "name": "stdout",
     "output_type": "stream",
     "text": [
      "[53, 193, 333]\n"
     ]
    }
   ],
   "source": [
    "result=[]\n",
    "for lineIdx in range(len(mat)):\n",
    "    product=0\n",
    "    for colIdx in range(len(arr)):\n",
    "        product+=mat[lineIdx][colIdx]*arr[colIdx]\n",
    "    result+=[product]\n",
    "print(result)\n",
    "    "
   ]
  },
  {
   "cell_type": "markdown",
   "metadata": {},
   "source": [
    "## NumPy"
   ]
  },
  {
   "cell_type": "markdown",
   "metadata": {},
   "source": [
    "#### Ex1\n",
    "Creati matricea si vectorul de mai sus in numpy."
   ]
  },
  {
   "cell_type": "code",
   "execution_count": 8,
   "metadata": {},
   "outputs": [],
   "source": [
    "npMat = np.mat(mat)\n",
    "npArr = np.array(arr)"
   ]
  },
  {
   "cell_type": "markdown",
   "metadata": {},
   "source": [
    "    a. Afisati doar ultimele 2 coloane din primele 2 randuri ale matricei"
   ]
  },
  {
   "cell_type": "code",
   "execution_count": 9,
   "metadata": {},
   "outputs": [
    {
     "data": {
      "text/plain": [
       "matrix([[ 3,  4],\n",
       "        [13, 14]])"
      ]
     },
     "execution_count": 9,
     "metadata": {},
     "output_type": "execute_result"
    }
   ],
   "source": [
    "npMat[:2,2:]"
   ]
  },
  {
   "cell_type": "markdown",
   "metadata": {},
   "source": [
    "    b. Afisati ultimele 2 elemente din vector"
   ]
  },
  {
   "cell_type": "code",
   "execution_count": 10,
   "metadata": {},
   "outputs": [
    {
     "data": {
      "text/plain": [
       "array([ 7, 10])"
      ]
     },
     "execution_count": 10,
     "metadata": {},
     "output_type": "execute_result"
    }
   ],
   "source": [
    "npArr[2:]"
   ]
  },
  {
   "cell_type": "markdown",
   "metadata": {},
   "source": [
    "### Ex2\n",
    "Creati doi vectori cu numere aleatoare intre 0 si 1 de aceleasi dimensiuni."
   ]
  },
  {
   "cell_type": "code",
   "execution_count": 14,
   "metadata": {
    "scrolled": true
   },
   "outputs": [
    {
     "name": "stdout",
     "output_type": "stream",
     "text": [
      "enter vector length:\n",
      "10\n",
      "arr1: [0.60757998 0.30735861 0.72991986 0.62817564 0.72547917 0.24168923\n",
      " 0.50281844 0.18767257 0.92952057 0.17567519]\n",
      "\n",
      "arr2: [0.02562376 0.81638118 0.56044171 0.89260065 0.10593809 0.77081447\n",
      " 0.21227321 0.20097393 0.66647564 0.30216545]\n",
      "\n"
     ]
    }
   ],
   "source": [
    "print('enter vector length:')\n",
    "n = int(input())\n",
    "\n",
    "\n",
    "arr1 = np.array([np.random.uniform() for i in range(n)])\n",
    "arr2 = np.array([np.random.uniform() for i in range(n)])\n",
    "print('arr1: ',end=str(arr1)+'\\n')\n",
    "print()\n",
    "print('arr2: ',end=str(arr2)+'\\n')\n",
    "print()"
   ]
  },
  {
   "cell_type": "markdown",
   "metadata": {},
   "source": [
    "    a. Afisati care dintre cei doi vectori are suma elementelor mai are."
   ]
  },
  {
   "cell_type": "code",
   "execution_count": 15,
   "metadata": {
    "scrolled": true
   },
   "outputs": [
    {
     "name": "stdout",
     "output_type": "stream",
     "text": [
      "arr1 has sum of elements 5.035889256877185\n",
      "\n",
      "arr2 has sum of elements 4.553688079330185\n",
      "\n",
      "second is bigger\n"
     ]
    }
   ],
   "source": [
    "print('arr1 has sum of elements ',end=str(arr1.sum())+'\\n')\n",
    "print()\n",
    "print('arr2 has sum of elements ',end=str(arr2.sum())+'\\n')\n",
    "print()\n",
    "\n",
    "if(arr1.sum()<arr2.sum()):\n",
    "    print('first is bigger')\n",
    "elif(arr1.sum()>arr2.sum()):\n",
    "    print('second is bigger')\n",
    "else:\n",
    "    print('the vectors have the same sum')"
   ]
  },
  {
   "cell_type": "markdown",
   "metadata": {},
   "source": [
    "    b. Adunati cei doi vectori. Inmultiti cei doi vector (vectorial si scalar)."
   ]
  },
  {
   "cell_type": "code",
   "execution_count": 16,
   "metadata": {
    "scrolled": true
   },
   "outputs": [
    {
     "name": "stdout",
     "output_type": "stream",
     "text": [
      "arr1+arr2 = [0.63320375 1.12373978 1.29036158 1.52077629 0.83141725 1.0125037\n",
      " 0.71509166 0.38864649 1.59599621 0.47784063]\n",
      "\n",
      "scalar: arr1*arr2 = 2.316469181958362\n",
      "\n",
      "vectorial: arr1*arr2 = [0.01556848 0.25092178 0.40907754 0.56070998 0.07685587 0.18629756\n",
      " 0.10673489 0.03771729 0.61950282 0.05308297]\n"
     ]
    }
   ],
   "source": [
    "print('arr1+arr2 = ',end=str(arr1+arr2)+'\\n')\n",
    "print()\n",
    "print('scalar: arr1*arr2 = ',end=str(arr1.dot(arr2).item())+'\\n')\n",
    "print()\n",
    "print('vectorial: arr1*arr2 = ',end=str(arr1*arr2)+'\\n')"
   ]
  },
  {
   "cell_type": "markdown",
   "metadata": {},
   "source": [
    "    c. Calculati radical din fiecare element din vector"
   ]
  },
  {
   "cell_type": "code",
   "execution_count": 17,
   "metadata": {},
   "outputs": [
    {
     "name": "stdout",
     "output_type": "stream",
     "text": [
      "sqrt of arr1 elements:\n",
      " [0.77947417 0.55439932 0.85435348 0.79257532 0.85175065 0.49161899\n",
      " 0.70909692 0.43321192 0.96411647 0.41913624]\n"
     ]
    }
   ],
   "source": [
    "print('sqrt of arr1 elements:\\n ',end=str(np.sqrt(arr1))+'\\n')"
   ]
  },
  {
   "cell_type": "markdown",
   "metadata": {},
   "source": [
    "#### Ex3\n",
    "Creati o matrice cu numere aleatoare intre 0 si 1 de dimensiune 5x3.\n"
   ]
  },
  {
   "cell_type": "code",
   "execution_count": 18,
   "metadata": {},
   "outputs": [],
   "source": [
    "randomMat = np.matrix(np.random.rand(5,3))\n",
    "transpose = np.transpose(randomMat)\n",
    "inverse = np.linalg.pinv(randomMat)"
   ]
  },
  {
   "cell_type": "markdown",
   "metadata": {},
   "source": [
    "    a. Afisati transpusa matricei"
   ]
  },
  {
   "cell_type": "code",
   "execution_count": 19,
   "metadata": {},
   "outputs": [
    {
     "name": "stdout",
     "output_type": "stream",
     "text": [
      "transpose: \n",
      "[[0.16184874 0.55573691 0.44889864 0.30150097 0.85341506]\n",
      " [0.89208758 0.05987356 0.90045587 0.42339173 0.73596086]\n",
      " [0.15254194 0.75601316 0.02463198 0.64064824 0.10111783]]"
     ]
    }
   ],
   "source": [
    "print('transpose: \\n', end = str(transpose))"
   ]
  },
  {
   "cell_type": "markdown",
   "metadata": {},
   "source": [
    "    b. Afisati inversa matricei si determinantul."
   ]
  },
  {
   "cell_type": "code",
   "execution_count": 20,
   "metadata": {
    "scrolled": true
   },
   "outputs": [
    {
     "name": "stdout",
     "output_type": "stream",
     "text": [
      "inverse: \n",
      "[[-0.82939923  0.4363478   0.05416595 -0.50829289  1.19599298]\n",
      " [ 0.78130598 -0.37309445  0.4110613   0.2728217  -0.21782121]\n",
      " [ 0.32807105  0.6299148  -0.23713453  0.85089829 -0.64829192]]"
     ]
    }
   ],
   "source": [
    "print('inverse: \\n', end=str(inverse))"
   ]
  },
  {
   "cell_type": "code",
   "execution_count": 21,
   "metadata": {},
   "outputs": [
    {
     "name": "stdout",
     "output_type": "stream",
     "text": [
      "determinant could not be calculated\n"
     ]
    }
   ],
   "source": [
    "try:\n",
    "    print('determinant: \\n',end=str(np.linalg.det(randomMat)))\n",
    "except:\n",
    "    print('determinant could not be calculated')"
   ]
  },
  {
   "cell_type": "markdown",
   "metadata": {},
   "source": [
    "#### Ex4\n",
    "Creati un vector de dimensiune 3 cu numere aleatoare:"
   ]
  },
  {
   "cell_type": "code",
   "execution_count": 22,
   "metadata": {},
   "outputs": [],
   "source": [
    "arr = np.random.rand(3)"
   ]
  },
  {
   "cell_type": "markdown",
   "metadata": {},
   "source": [
    "    a. Afisati produsul scalar intre matricea definite la punctul 3 si vectorul curent"
   ]
  },
  {
   "cell_type": "code",
   "execution_count": 23,
   "metadata": {
    "scrolled": true
   },
   "outputs": [
    {
     "data": {
      "text/plain": [
       "matrix([[0.11301467, 0.34157216, 0.13164489, 0.27028181, 0.22875909]])"
      ]
     },
     "execution_count": 23,
     "metadata": {},
     "output_type": "execute_result"
    }
   ],
   "source": [
    "randomMat.dot(arr)"
   ]
  }
 ],
 "metadata": {
  "kernelspec": {
   "display_name": "Python 3",
   "language": "python",
   "name": "python3"
  },
  "language_info": {
   "codemirror_mode": {
    "name": "ipython",
    "version": 3
   },
   "file_extension": ".py",
   "mimetype": "text/x-python",
   "name": "python",
   "nbconvert_exporter": "python",
   "pygments_lexer": "ipython3",
   "version": "3.8.3"
  }
 },
 "nbformat": 4,
 "nbformat_minor": 4
}
